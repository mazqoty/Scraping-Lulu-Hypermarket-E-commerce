{
 "cells": [
  {
   "cell_type": "markdown",
   "metadata": {},
   "source": [
    "### Imports"
   ]
  },
  {
   "cell_type": "code",
   "execution_count": 9,
   "metadata": {},
   "outputs": [],
   "source": [
    "from bs4 import BeautifulSoup # HTML data structur\n",
    "import requests\n",
    "from urllib.request import urlopen as uReq  # Web client\n",
    "import urllib.request\n",
    "from tqdm import tqdm\n",
    "import pandas as pd\n",
    "import csv\n",
    "import time"
   ]
  },
  {
   "cell_type": "markdown",
   "metadata": {},
   "source": [
    "### CSV / Excel Files"
   ]
  },
  {
   "cell_type": "code",
   "execution_count": 10,
   "metadata": {},
   "outputs": [],
   "source": [
    "#----------------------Calling Products file which has Product Images------------------------------------------------#\n",
    "\n",
    "path = \"C:/Users/Mazhar/Projects_Jupyter/5.Scraping-Lulu_Hypermarket/csv_excel_files/Lulu_Products.xlsx\"\n",
    "\n",
    "df = pd.read_excel(path, index_col = None) \n",
    "\n",
    "links = df.values.tolist()\n",
    "\n",
    "# END------------------Calling Links file------------------------------------------------#"
   ]
  },
  {
   "cell_type": "code",
   "execution_count": 11,
   "metadata": {},
   "outputs": [],
   "source": [
    "#df.head(2)"
   ]
  },
  {
   "cell_type": "code",
   "execution_count": 12,
   "metadata": {},
   "outputs": [],
   "source": [
    " #image link\n",
    "#links[0][5]"
   ]
  },
  {
   "cell_type": "code",
   "execution_count": 13,
   "metadata": {},
   "outputs": [],
   "source": [
    "#name of Image\n",
    "#links[0][0] "
   ]
  },
  {
   "cell_type": "code",
   "execution_count": 6,
   "metadata": {},
   "outputs": [],
   "source": [
    "#links[:2]"
   ]
  },
  {
   "cell_type": "code",
   "execution_count": 14,
   "metadata": {},
   "outputs": [
    {
     "data": {
      "text/plain": [
       "10668"
      ]
     },
     "execution_count": 14,
     "metadata": {},
     "output_type": "execute_result"
    }
   ],
   "source": [
    "len(links)"
   ]
  },
  {
   "cell_type": "markdown",
   "metadata": {},
   "source": [
    "### Saving/Downloading Product Images"
   ]
  },
  {
   "cell_type": "code",
   "execution_count": 15,
   "metadata": {},
   "outputs": [
    {
     "name": "stderr",
     "output_type": "stream",
     "text": [
      "Progress: 100%|██████████| 4/4 [00:02<00:00,  1.36it/s]\n"
     ]
    }
   ],
   "source": [
    "hdr = {'User-Agent': 'Mozilla/5.0 (X11; Linux x86_64) AppleWebKit/537.11 (KHTML, like Gecko) \\\n",
    "       Chrome/23.0.1271.64 Safari/537.11',\n",
    "   'Accept': 'text/html,application/xhtml+xml,application/xml;q=0.9,*/*;q=0.8',\n",
    "   'Accept-Charset': 'ISO-8859-1,utf-8;q=0.7,*;q=0.3',\n",
    "   'Accept-Encoding': 'none',\n",
    "   'Accept-Language': 'en-US,en;q=0.8',\n",
    "   'Connection': 'keep-alive'}\n",
    "\n",
    "\n",
    "for i in tqdm(range(0,len(links)-10664), desc = 'Progress'): # Only scrapping images of few products\n",
    "    \n",
    "    image_counter = 5\n",
    "    name_increment = 1\n",
    "    \n",
    "    while image_counter <= 7:\n",
    "        try:\n",
    "            image_url = links[i][image_counter]\n",
    "            #Open the URL as Browser, not as python urllib\n",
    "            page = urllib.request.Request(image_url,headers = hdr)\n",
    "            infile = urllib.request.urlopen(page).read()\n",
    "            #Read the content as string decoded with ISO-8859-1\n",
    "            #data = infile.decode('ISO-8859-1')\n",
    "            imagefile = open('C:/Users/Mazhar/Projects_Jupyter/5.Scraping-Lulu_Hypermarket/Images/'+ links[i][0] \\\n",
    "                             + '_' + str(name_increment) + \".jpeg\", \"wb\")\n",
    "            imagefile.write(infile)\n",
    "            imagefile.close()\n",
    "            image_counter += 1\n",
    "            name_increment += 1\n",
    "        \n",
    "        \n",
    "        except Exception as e:\n",
    "            break  "
   ]
  },
  {
   "cell_type": "code",
   "execution_count": null,
   "metadata": {},
   "outputs": [],
   "source": []
  }
 ],
 "metadata": {
  "kernelspec": {
   "display_name": "Python 3",
   "language": "python",
   "name": "python3"
  },
  "language_info": {
   "codemirror_mode": {
    "name": "ipython",
    "version": 3
   },
   "file_extension": ".py",
   "mimetype": "text/x-python",
   "name": "python",
   "nbconvert_exporter": "python",
   "pygments_lexer": "ipython3",
   "version": "3.7.6"
  }
 },
 "nbformat": 4,
 "nbformat_minor": 4
}
