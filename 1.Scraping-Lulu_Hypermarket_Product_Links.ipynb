{
 "cells": [
  {
   "cell_type": "markdown",
   "metadata": {},
   "source": [
    "### Imports"
   ]
  },
  {
   "cell_type": "code",
   "execution_count": null,
   "metadata": {},
   "outputs": [],
   "source": [
    "from bs4 import BeautifulSoup # HTML data structur\n",
    "import requests\n",
    "from urllib.request import urlopen as uReq  # Web client\n",
    "import urllib.request\n",
    "from tqdm import tqdm\n",
    "import pandas as pd\n",
    "import csv\n",
    "import time"
   ]
  },
  {
   "cell_type": "markdown",
   "metadata": {},
   "source": [
    "### CSV /  Excel Files"
   ]
  },
  {
   "cell_type": "code",
   "execution_count": null,
   "metadata": {},
   "outputs": [],
   "source": [
    "path = 'C:/Users/Mazhar/Projects_Jupyter/5.Scraping-Lulu_Hypermarket/csv_excel_files/Lulu_Product_Links.csv'\n",
    "csv_file = open(path, 'w')\n",
    "csv_writer = csv.writer(csv_file)\n",
    "#defining headers\n",
    "csv_writer.writerow(['Product Titles', 'Product Links'])"
   ]
  },
  {
   "cell_type": "markdown",
   "metadata": {},
   "source": [
    "### Scraping Product Links"
   ]
  },
  {
   "cell_type": "code",
   "execution_count": null,
   "metadata": {},
   "outputs": [],
   "source": [
    "for i in range(0, 268):\n",
    "    \n",
    "    # Specify the web page\n",
    "    url = \"https://www.luluhypermarket.com/en-sa/grocery/c/HYQAR20?q=%3Arelevance&page=\" + str(i)\n",
    "    \n",
    "    # Get the web page\n",
    "    response = requests.get(url)\n",
    "    \n",
    "    # Data in the web page\n",
    "    data = response.text\n",
    "    \n",
    "    # Pass the source code of the web page to beautiful soup to create a beautiful soup object for it.\n",
    "    soup = BeautifulSoup(data, 'html.parser')\n",
    "    \n",
    "    # Getting Links and Titles\n",
    "    product_links = soup.find_all('a', {\"class\":\"js-gtm-product-link\"})\n",
    "    product_titles = soup.find_all('div', {'class': 'plp-prod-name'})\n",
    "    \n",
    "    print('\\r Scraping Page', i, end=\"\")\n",
    "    \n",
    "\n",
    "    for i in range(len(product_links)):\n",
    "        title = product_titles[i].text.split('\\n\\t\\t\\t\\t\\t\\t\\t')[1]\n",
    "        link = \"https://www.luluhypermarket.com\" + product_links[i].get('href')\n",
    "        csv_writer.writerow([title, link])\n",
    "    \n",
    "    \n",
    "\n",
    "#lst_product_links\n",
    "#closing CSV file\n",
    "csv_file.close() "
   ]
  },
  {
   "cell_type": "code",
   "execution_count": null,
   "metadata": {},
   "outputs": [],
   "source": []
  }
 ],
 "metadata": {
  "kernelspec": {
   "display_name": "Python 3",
   "language": "python",
   "name": "python3"
  },
  "language_info": {
   "codemirror_mode": {
    "name": "ipython",
    "version": 3
   },
   "file_extension": ".py",
   "mimetype": "text/x-python",
   "name": "python",
   "nbconvert_exporter": "python",
   "pygments_lexer": "ipython3",
   "version": "3.7.6"
  }
 },
 "nbformat": 4,
 "nbformat_minor": 4
}
